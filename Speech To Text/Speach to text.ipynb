{
 "cells": [
  {
   "cell_type": "code",
   "execution_count": null,
   "id": "b147c78c",
   "metadata": {
    "ExecuteTime": {
     "end_time": "2021-12-24T15:30:02.671455Z",
     "start_time": "2021-12-24T15:30:02.666469Z"
    }
   },
   "outputs": [],
   "source": [
    "pip install SpeechRecognition\n",
    "pip install pipwin\n",
    "pipwin install pyaudio\n",
    "\n",
    "#pip install vosk"
   ]
  },
  {
   "cell_type": "code",
   "execution_count": 1,
   "id": "a09fc4ed",
   "metadata": {
    "ExecuteTime": {
     "end_time": "2021-12-24T15:36:01.195773Z",
     "start_time": "2021-12-24T15:36:01.177773Z"
    }
   },
   "outputs": [],
   "source": [
    "import speech_recognition as sr"
   ]
  },
  {
   "cell_type": "code",
   "execution_count": 16,
   "id": "71a6a4b3",
   "metadata": {
    "ExecuteTime": {
     "end_time": "2021-12-24T15:39:55.613841Z",
     "start_time": "2021-12-24T15:39:55.608854Z"
    }
   },
   "outputs": [],
   "source": [
    "def speech_from_mic(): #online\n",
    "    r = sr.Recognizer()\n",
    "    with sr.Microphone() as source:\n",
    "        print(\"Speak Anything :\")\n",
    "        audio = r.listen(source)\n",
    "    try:\n",
    "        text = r.recognize_google(audio)\n",
    "        return(text)\n",
    "\n",
    "    except:\n",
    "        return('Sorry could not recognize what you said')\n",
    "    "
   ]
  },
  {
   "cell_type": "code",
   "execution_count": 44,
   "id": "a529127c",
   "metadata": {
    "ExecuteTime": {
     "end_time": "2021-12-24T16:00:12.370311Z",
     "start_time": "2021-12-24T16:00:12.363318Z"
    }
   },
   "outputs": [],
   "source": [
    "def speech_from_file(filename): #Still buggy but kinda works\n",
    "    r = sr.Recognizer()\n",
    "    with sr.AudioFile(filename) as source:\n",
    "        r.adjust_for_ambient_noise(source)\n",
    "        print(\"Converting Audio To Text ..... \")\n",
    "        audio = r.listen(source)\n",
    "    try:\n",
    "        print(\"Converted Audio Is : \\n\" + r.recognize_google(audio))\n",
    "    except Exception as e:\n",
    "        print(\"Error {} : \".format(e) )\n",
    "        "
   ]
  },
  {
   "cell_type": "code",
   "execution_count": 46,
   "id": "be6e320a",
   "metadata": {
    "ExecuteTime": {
     "end_time": "2021-12-24T16:00:28.509581Z",
     "start_time": "2021-12-24T16:00:26.065328Z"
    }
   },
   "outputs": [
    {
     "name": "stdout",
     "output_type": "stream",
     "text": [
      "Converting Audio To Text ..... \n",
      "Converted Audio Is : \n",
      "sorry\n"
     ]
    }
   ],
   "source": [
    "speech_from_file('output.mp3')"
   ]
  },
  {
   "cell_type": "code",
   "execution_count": 42,
   "id": "fdf5fa9f",
   "metadata": {
    "ExecuteTime": {
     "end_time": "2021-12-24T15:40:40.434296Z",
     "start_time": "2021-12-24T15:40:40.428309Z"
    }
   },
   "outputs": [
    {
     "data": {
      "text/plain": [
       "'hello'"
      ]
     },
     "execution_count": 42,
     "metadata": {},
     "output_type": "execute_result"
    }
   ],
   "source": [
    "x"
   ]
  }
 ],
 "metadata": {
  "kernelspec": {
   "display_name": "Python 3 (ipykernel)",
   "language": "python",
   "name": "python3"
  },
  "language_info": {
   "codemirror_mode": {
    "name": "ipython",
    "version": 3
   },
   "file_extension": ".py",
   "mimetype": "text/x-python",
   "name": "python",
   "nbconvert_exporter": "python",
   "pygments_lexer": "ipython3",
   "version": "3.8.12"
  },
  "latex_envs": {
   "LaTeX_envs_menu_present": true,
   "autoclose": false,
   "autocomplete": true,
   "bibliofile": "biblio.bib",
   "cite_by": "apalike",
   "current_citInitial": 1,
   "eqLabelWithNumbers": true,
   "eqNumInitial": 1,
   "hotkeys": {
    "equation": "Ctrl-E",
    "itemize": "Ctrl-I"
   },
   "labels_anchors": false,
   "latex_user_defs": false,
   "report_style_numbering": false,
   "user_envs_cfg": false
  }
 },
 "nbformat": 4,
 "nbformat_minor": 5
}
