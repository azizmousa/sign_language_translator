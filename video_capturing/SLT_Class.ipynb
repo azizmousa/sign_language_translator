{
 "cells": [
  {
   "cell_type": "markdown",
   "metadata": {},
   "source": [
    "# 1. Import and Install Dependencies"
   ]
  },
  {
   "cell_type": "code",
   "execution_count": null,
   "metadata": {},
   "outputs": [],
   "source": [
    "# !pip install tensorflow==2.4.1 tensorflow-gpu==2.4.1 opencv-python mediapipe sklearn matplotlib"
   ]
  },
  {
   "cell_type": "code",
   "execution_count": null,
   "metadata": {},
   "outputs": [],
   "source": [
    "# !pip3 install mediapipe"
   ]
  },
  {
   "cell_type": "markdown",
   "metadata": {},
   "source": [
    "# SLT Class "
   ]
  },
  {
   "cell_type": "code",
   "execution_count": 3,
   "metadata": {},
   "outputs": [],
   "source": [
    "import cv2\n",
    "import numpy as np\n",
    "import os\n",
    "from matplotlib import pyplot as plt\n",
    "import time\n",
    "import mediapipe as mp"
   ]
  },
  {
   "cell_type": "code",
   "execution_count": 35,
   "metadata": {},
   "outputs": [],
   "source": [
    "class SLT:\n",
    "    \n",
    "    def __init__(self):\n",
    "        self.mp_holistic = mp.solutions.holistic # Holistic model\n",
    "        self.mp_drawing = mp.solutions.drawing_utils # Drawing utilities\n",
    "        \n",
    "    \n",
    "    def mediapipe_detection(self, image, model):\n",
    "        image = cv2.cvtColor(image, cv2.COLOR_BGR2RGB) # COLOR CONVERSION BGR 2 RGB\n",
    "        image.flags.writeable = False                  # Image is no longer writeable\n",
    "        results = model.process(image)                 # Make prediction\n",
    "        image.flags.writeable = True                   # Image is now writeable \n",
    "        image = cv2.cvtColor(image, cv2.COLOR_RGB2BGR) # COLOR COVERSION RGB 2 BGR\n",
    "        return image, results\n",
    "    \n",
    "    \n",
    "    \n",
    "    def draw_styled_landmarks(self, image, results):\n",
    "        # Draw face connections\n",
    "        self.mp_drawing.draw_landmarks(image, results.face_landmarks, self.mp_holistic.FACEMESH_TESSELATION, \n",
    "                                 self.mp_drawing.DrawingSpec(color=(80,110,10), thickness=1, circle_radius=1), \n",
    "                                 self.mp_drawing.DrawingSpec(color=(80,256,121), thickness=1, circle_radius=1)) \n",
    "\n",
    "        # Draw pose connections\n",
    "        self.mp_drawing.draw_landmarks(image, results.pose_landmarks, self.mp_holistic.POSE_CONNECTIONS,\n",
    "                                 self.mp_drawing.DrawingSpec(color=(80,22,10), thickness=2, circle_radius=4), \n",
    "                                 self.mp_drawing.DrawingSpec(color=(80,44,121), thickness=2, circle_radius=2)) \n",
    "\n",
    "        # Draw left hand connections\n",
    "        self.mp_drawing.draw_landmarks(image, results.left_hand_landmarks, self.mp_holistic.HAND_CONNECTIONS, \n",
    "                                 self.mp_drawing.DrawingSpec(color=(121,22,76), thickness=2, circle_radius=4), \n",
    "                                 self.mp_drawing.DrawingSpec(color=(121,44,250), thickness=2, circle_radius=2)) \n",
    "\n",
    "        # Draw right hand connections  \n",
    "        self.mp_drawing.draw_landmarks(image, results.right_hand_landmarks, self.mp_holistic.HAND_CONNECTIONS, \n",
    "                                 self.mp_drawing.DrawingSpec(color=(245,117,66), thickness=2, circle_radius=4), \n",
    "                                 self.mp_drawing.DrawingSpec(color=(245,66,230), thickness=2, circle_radius=2)) \n",
    "        \n",
    "        \n",
    "        \n",
    "    def input_type(self, no_of_type, path = None):\n",
    "        \n",
    "        # 0 for live video, 1 for recorded video\n",
    "        if no_of_type == 0:\n",
    "            cap = cv2.VideoCapture(no_of_type)\n",
    "\n",
    "        elif no_of_type == 1:\n",
    "            cap = cv2.VideoCapture(path)\n",
    "\n",
    "        return cap\n",
    "    \n",
    "    def extract_keypoints(self,results):\n",
    "        face_landmarks = np.array([[lm.x, lm.y, lm.z] for lm in results.face_landmarks.landmark]).flatten()if results.face_landmarks else np.zeros(468*3)\n",
    "        pose_landmarks = np.array([[lm.x, lm.y, lm.z, lm.visibility] for lm in results.pose_landmarks.landmark]).flatten() if results.pose_landmarks else np.zeros(33*4)\n",
    "        righ_hand_landmarks = np.array([[lm.x, lm.y, lm.z] for lm in results.right_hand_landmarks.landmark]).flatten() if results.right_hand_landmarks else np.zeros(21*3)\n",
    "        left_hand_landmarks = np.array([[lm.x, lm.y, lm.z] for lm in results.left_hand_landmarks.landmark]).flatten() if results.left_hand_landmarks else np.zeros(21*3)\n",
    "        return np.concatenate([pose_landmarks, face_landmarks, left_hand_landmarks, righ_hand_landmarks])\n",
    "\n",
    "    def run(self,no_of_type, path = None):\n",
    "        '''\n",
    "        no_of_type : 0 for 'live video', 1 for 'recorded video'\n",
    "        path : add path of recorded video when no_of_type = 1\n",
    "        '''\n",
    "    \n",
    "    # Define the type of the input\n",
    "        cap = self.input_type(no_of_type , path)\n",
    "\n",
    "        # Set mediapipe model \n",
    "        with self.mp_holistic.Holistic(min_detection_confidence=0.5, min_tracking_confidence=0.5) as holistic:\n",
    "\n",
    "            while cap.isOpened():\n",
    "\n",
    "                # Read feed\n",
    "                ret, frame = cap.read()\n",
    "                cv2.imshow('Live',frame)\n",
    "\n",
    "                # Make detections\n",
    "                image, results = self.mediapipe_detection(frame, holistic)\n",
    "                \n",
    "                # np_array_keypoints is a variable which has the array for each frame in real time \n",
    "                np_array_keypoints = self.extract_keypoints(results)\n",
    "            \n",
    "            \n",
    "                # Draw landmarks\n",
    "                self.draw_styled_landmarks(image, results)\n",
    "\n",
    "                # Show to screen\n",
    "                cv2.imshow('OpenCV Feed', image)\n",
    "\n",
    "                # Break gracefullyq\n",
    "                if cv2.waitKey(10) & 0xFF == ord('q'):\n",
    "                    break\n",
    "            \n",
    "            cap.release()\n",
    "            cv2.destroyAllWindows()"
   ]
  },
  {
   "cell_type": "code",
   "execution_count": 36,
   "metadata": {},
   "outputs": [],
   "source": [
    "slt = SLT()"
   ]
  },
  {
   "cell_type": "code",
   "execution_count": 37,
   "metadata": {},
   "outputs": [],
   "source": [
    "slt.run(0,None)"
   ]
  },
  {
   "cell_type": "markdown",
   "metadata": {},
   "source": [
    " "
   ]
  }
 ],
 "metadata": {
  "kernelspec": {
   "display_name": "Python 3",
   "language": "python",
   "name": "python3"
  },
  "language_info": {
   "codemirror_mode": {
    "name": "ipython",
    "version": 3
   },
   "file_extension": ".py",
   "mimetype": "text/x-python",
   "name": "python",
   "nbconvert_exporter": "python",
   "pygments_lexer": "ipython3",
   "version": "3.7.3"
  }
 },
 "nbformat": 4,
 "nbformat_minor": 2
}
